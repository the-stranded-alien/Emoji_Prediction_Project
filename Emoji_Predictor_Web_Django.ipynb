{
 "cells": [
  {
   "cell_type": "markdown",
   "metadata": {},
   "source": [
    "## Emoji Predictor -- Creating Model To Deploy "
   ]
  },
  {
   "cell_type": "code",
   "execution_count": 1,
   "metadata": {},
   "outputs": [
    {
     "name": "stderr",
     "output_type": "stream",
     "text": [
      "Using TensorFlow backend.\n"
     ]
    }
   ],
   "source": [
    "import emoji\n",
    "import pandas as pd\n",
    "import numpy as np\n",
    "from keras.utils import to_categorical\n",
    "from keras.layers import *\n",
    "from keras.models import Sequential\n",
    "from keras.callbacks import EarlyStopping, ModelCheckpoint\n",
    "pd.set_option('mode.chained_assignment', None)"
   ]
  },
  {
   "cell_type": "code",
   "execution_count": 2,
   "metadata": {},
   "outputs": [],
   "source": [
    "# print(emoji.EMOJI_UNICODE)\n",
    "emoji_dictionary = {\"0\": \"\\u2764\\uFE0F\",\n",
    "                    \"1\": \":baseball:\",\n",
    "                    \"2\": \":grinning_face_with_big_eyes:\",\n",
    "                    \"3\": \":disappointed_face:\",\n",
    "                    \"4\": \":fork_and_knife:\"\n",
    "                   }"
   ]
  },
  {
   "cell_type": "code",
   "execution_count": 3,
   "metadata": {},
   "outputs": [],
   "source": [
    "train = pd.read_csv(\"Dataset/train_emoji.csv\", header=None)\n",
    "test = pd.read_csv(\"Dataset/test_emoji.csv\", header=None)"
   ]
  },
  {
   "cell_type": "code",
   "execution_count": 4,
   "metadata": {},
   "outputs": [],
   "source": [
    "X_train = train[0]\n",
    "Y_train = train[1]\n",
    "\n",
    "X_test = test[0]\n",
    "Y_test = test[1]"
   ]
  },
  {
   "cell_type": "code",
   "execution_count": 5,
   "metadata": {},
   "outputs": [],
   "source": [
    "f = open(\"glove.6B.50d.txt\", encoding='utf-8')"
   ]
  },
  {
   "cell_type": "code",
   "execution_count": 6,
   "metadata": {},
   "outputs": [],
   "source": [
    "embeddings_index = {}\n",
    "\n",
    "for line in f:\n",
    "    values = line.split()\n",
    "    word = values[0]\n",
    "    coefs = np.asarray(values[1:], dtype='float')\n",
    "    embeddings_index[word] = coefs\n",
    "    \n",
    "f.close()"
   ]
  },
  {
   "cell_type": "code",
   "execution_count": 7,
   "metadata": {},
   "outputs": [],
   "source": [
    "def embedding_output(X):\n",
    "    maxLen = 10\n",
    "    emb_dim = 50\n",
    "    embedding_out = np.zeros((X.shape[0], maxLen, emb_dim))\n",
    "    \n",
    "    for ix in range(X.shape[0]):\n",
    "        X[ix] = X[ix].split()\n",
    "        for ij in range(len(X[ix])):\n",
    "            try:\n",
    "                embedding_out[ix][ij] = embeddings_index[X[ix][ij].lower()]\n",
    "            except:\n",
    "                embedding_out[ix][ij] = np.zeros((50,))\n",
    "    \n",
    "    return embedding_out"
   ]
  },
  {
   "cell_type": "code",
   "execution_count": 8,
   "metadata": {},
   "outputs": [],
   "source": [
    "embedding_matrix_train = embedding_output(X_train)\n",
    "embedding_matrix_test = embedding_output(X_test)"
   ]
  },
  {
   "cell_type": "code",
   "execution_count": 9,
   "metadata": {},
   "outputs": [],
   "source": [
    "Y_train = to_categorical(Y_train, num_classes=5)\n",
    "Y_test = to_categorical(Y_test, num_classes=5)"
   ]
  },
  {
   "cell_type": "code",
   "execution_count": 10,
   "metadata": {},
   "outputs": [],
   "source": [
    "model = Sequential()\n",
    "model.add(LSTM(64, input_shape=(10,50), return_sequences=True))\n",
    "model.add(Dropout(0.5))\n",
    "model.add(LSTM(64, return_sequences=False))\n",
    "model.add(Dropout(0.5))\n",
    "model.add(Dense(5))\n",
    "model.add(Activation('softmax'))\n",
    "model.compile(loss='categorical_crossentropy', optimizer='adam', metrics=['accuracy'])"
   ]
  },
  {
   "cell_type": "code",
   "execution_count": 11,
   "metadata": {},
   "outputs": [
    {
     "name": "stdout",
     "output_type": "stream",
     "text": [
      "Train on 105 samples, validate on 27 samples\n",
      "Epoch 1/100\n",
      "105/105 [==============================] - 2s 17ms/step - loss: 1.6256 - accuracy: 0.1524 - val_loss: 1.6224 - val_accuracy: 0.1852\n",
      "\n",
      "Epoch 00001: val_loss improved from inf to 1.62236, saving model to Web_Model.h5\n",
      "Epoch 2/100\n",
      "105/105 [==============================] - 0s 722us/step - loss: 1.5745 - accuracy: 0.3048 - val_loss: 1.6231 - val_accuracy: 0.2593\n",
      "\n",
      "Epoch 00002: val_loss did not improve from 1.62236\n",
      "Epoch 3/100\n",
      "105/105 [==============================] - 0s 674us/step - loss: 1.5280 - accuracy: 0.3810 - val_loss: 1.6315 - val_accuracy: 0.2593\n",
      "\n",
      "Epoch 00003: val_loss did not improve from 1.62236\n",
      "Epoch 4/100\n",
      "105/105 [==============================] - 0s 665us/step - loss: 1.5297 - accuracy: 0.3333 - val_loss: 1.6467 - val_accuracy: 0.2222\n",
      "\n",
      "Epoch 00004: val_loss did not improve from 1.62236\n",
      "Epoch 5/100\n",
      "105/105 [==============================] - 0s 682us/step - loss: 1.4726 - accuracy: 0.3429 - val_loss: 1.6631 - val_accuracy: 0.2222\n",
      "\n",
      "Epoch 00005: val_loss did not improve from 1.62236\n",
      "Epoch 6/100\n",
      "105/105 [==============================] - 0s 665us/step - loss: 1.4560 - accuracy: 0.3810 - val_loss: 1.6777 - val_accuracy: 0.2593\n",
      "\n",
      "Epoch 00006: val_loss did not improve from 1.62236\n",
      "Epoch 7/100\n",
      "105/105 [==============================] - 0s 674us/step - loss: 1.4439 - accuracy: 0.4000 - val_loss: 1.6813 - val_accuracy: 0.1852\n",
      "\n",
      "Epoch 00007: val_loss did not improve from 1.62236\n",
      "Epoch 8/100\n",
      "105/105 [==============================] - 0s 665us/step - loss: 1.4333 - accuracy: 0.3714 - val_loss: 1.6651 - val_accuracy: 0.2222\n",
      "\n",
      "Epoch 00008: val_loss did not improve from 1.62236\n",
      "Epoch 9/100\n",
      "105/105 [==============================] - 0s 677us/step - loss: 1.3988 - accuracy: 0.4571 - val_loss: 1.6375 - val_accuracy: 0.2222\n",
      "\n",
      "Epoch 00009: val_loss did not improve from 1.62236\n",
      "Epoch 10/100\n",
      "105/105 [==============================] - 0s 641us/step - loss: 1.3782 - accuracy: 0.4381 - val_loss: 1.5989 - val_accuracy: 0.2222\n",
      "\n",
      "Epoch 00010: val_loss improved from 1.62236 to 1.59894, saving model to Web_Model.h5\n",
      "Epoch 11/100\n",
      "105/105 [==============================] - 0s 1ms/step - loss: 1.3319 - accuracy: 0.4286 - val_loss: 1.5502 - val_accuracy: 0.2222\n",
      "\n",
      "Epoch 00011: val_loss improved from 1.59894 to 1.55019, saving model to Web_Model.h5\n",
      "Epoch 12/100\n",
      "105/105 [==============================] - 0s 1ms/step - loss: 1.3008 - accuracy: 0.4762 - val_loss: 1.5028 - val_accuracy: 0.2963\n",
      "\n",
      "Epoch 00012: val_loss improved from 1.55019 to 1.50283, saving model to Web_Model.h5\n",
      "Epoch 13/100\n",
      "105/105 [==============================] - 0s 931us/step - loss: 1.2638 - accuracy: 0.4762 - val_loss: 1.4639 - val_accuracy: 0.2963\n",
      "\n",
      "Epoch 00013: val_loss improved from 1.50283 to 1.46393, saving model to Web_Model.h5\n",
      "Epoch 14/100\n",
      "105/105 [==============================] - 0s 943us/step - loss: 1.2144 - accuracy: 0.5429 - val_loss: 1.4337 - val_accuracy: 0.3333\n",
      "\n",
      "Epoch 00014: val_loss improved from 1.46393 to 1.43366, saving model to Web_Model.h5\n",
      "Epoch 15/100\n",
      "105/105 [==============================] - 0s 958us/step - loss: 1.1735 - accuracy: 0.5810 - val_loss: 1.4046 - val_accuracy: 0.4074\n",
      "\n",
      "Epoch 00015: val_loss improved from 1.43366 to 1.40458, saving model to Web_Model.h5\n",
      "Epoch 16/100\n",
      "105/105 [==============================] - 0s 975us/step - loss: 1.0916 - accuracy: 0.6190 - val_loss: 1.3773 - val_accuracy: 0.3704\n",
      "\n",
      "Epoch 00016: val_loss improved from 1.40458 to 1.37733, saving model to Web_Model.h5\n",
      "Epoch 17/100\n",
      "105/105 [==============================] - 0s 937us/step - loss: 1.0400 - accuracy: 0.6476 - val_loss: 1.3294 - val_accuracy: 0.4444\n",
      "\n",
      "Epoch 00017: val_loss improved from 1.37733 to 1.32945, saving model to Web_Model.h5\n",
      "Epoch 18/100\n",
      "105/105 [==============================] - 0s 959us/step - loss: 1.0255 - accuracy: 0.6571 - val_loss: 1.2648 - val_accuracy: 0.4444\n",
      "\n",
      "Epoch 00018: val_loss improved from 1.32945 to 1.26484, saving model to Web_Model.h5\n",
      "Epoch 19/100\n",
      "105/105 [==============================] - 0s 950us/step - loss: 0.9920 - accuracy: 0.6571 - val_loss: 1.2089 - val_accuracy: 0.4815\n",
      "\n",
      "Epoch 00019: val_loss improved from 1.26484 to 1.20891, saving model to Web_Model.h5\n",
      "Epoch 20/100\n",
      "105/105 [==============================] - 0s 940us/step - loss: 0.8887 - accuracy: 0.7333 - val_loss: 1.1543 - val_accuracy: 0.4444\n",
      "\n",
      "Epoch 00020: val_loss improved from 1.20891 to 1.15425, saving model to Web_Model.h5\n",
      "Epoch 21/100\n",
      "105/105 [==============================] - 0s 918us/step - loss: 0.8575 - accuracy: 0.7333 - val_loss: 1.1228 - val_accuracy: 0.4815\n",
      "\n",
      "Epoch 00021: val_loss improved from 1.15425 to 1.12283, saving model to Web_Model.h5\n",
      "Epoch 22/100\n",
      "105/105 [==============================] - 0s 991us/step - loss: 0.7203 - accuracy: 0.8095 - val_loss: 1.1275 - val_accuracy: 0.4444\n",
      "\n",
      "Epoch 00022: val_loss did not improve from 1.12283\n",
      "Epoch 23/100\n",
      "105/105 [==============================] - 0s 816us/step - loss: 0.7769 - accuracy: 0.7143 - val_loss: 1.0788 - val_accuracy: 0.4815\n",
      "\n",
      "Epoch 00023: val_loss improved from 1.12283 to 1.07877, saving model to Web_Model.h5\n",
      "Epoch 24/100\n",
      "105/105 [==============================] - 0s 636us/step - loss: 0.7283 - accuracy: 0.7905 - val_loss: 0.9810 - val_accuracy: 0.4444\n",
      "\n",
      "Epoch 00024: val_loss improved from 1.07877 to 0.98098, saving model to Web_Model.h5\n",
      "Epoch 25/100\n",
      "105/105 [==============================] - 0s 898us/step - loss: 0.6352 - accuracy: 0.8000 - val_loss: 0.9428 - val_accuracy: 0.5556\n",
      "\n",
      "Epoch 00025: val_loss improved from 0.98098 to 0.94279, saving model to Web_Model.h5\n",
      "Epoch 26/100\n",
      "105/105 [==============================] - 0s 935us/step - loss: 0.5864 - accuracy: 0.8000 - val_loss: 0.9640 - val_accuracy: 0.5926\n",
      "\n",
      "Epoch 00026: val_loss did not improve from 0.94279\n",
      "Epoch 27/100\n",
      "105/105 [==============================] - 0s 931us/step - loss: 0.5223 - accuracy: 0.8571 - val_loss: 1.0741 - val_accuracy: 0.5185\n",
      "\n",
      "Epoch 00027: val_loss did not improve from 0.94279\n",
      "Epoch 28/100\n",
      "105/105 [==============================] - 0s 988us/step - loss: 0.5422 - accuracy: 0.8190 - val_loss: 0.9390 - val_accuracy: 0.5556\n",
      "\n",
      "Epoch 00028: val_loss improved from 0.94279 to 0.93897, saving model to Web_Model.h5\n",
      "Epoch 29/100\n",
      "105/105 [==============================] - 0s 987us/step - loss: 0.4629 - accuracy: 0.8667 - val_loss: 0.8443 - val_accuracy: 0.6667\n",
      "\n",
      "Epoch 00029: val_loss improved from 0.93897 to 0.84431, saving model to Web_Model.h5\n",
      "Epoch 30/100\n",
      "105/105 [==============================] - 0s 952us/step - loss: 0.4469 - accuracy: 0.8667 - val_loss: 0.8444 - val_accuracy: 0.6296\n",
      "\n",
      "Epoch 00030: val_loss did not improve from 0.84431\n",
      "Epoch 31/100\n",
      "105/105 [==============================] - 0s 936us/step - loss: 0.2895 - accuracy: 0.9048 - val_loss: 0.9185 - val_accuracy: 0.6296\n",
      "\n",
      "Epoch 00031: val_loss did not improve from 0.84431\n",
      "Epoch 32/100\n",
      "105/105 [==============================] - 0s 893us/step - loss: 0.3463 - accuracy: 0.9143 - val_loss: 0.8825 - val_accuracy: 0.7037\n",
      "\n",
      "Epoch 00032: val_loss did not improve from 0.84431\n",
      "Epoch 33/100\n",
      "105/105 [==============================] - 0s 893us/step - loss: 0.3529 - accuracy: 0.8857 - val_loss: 0.8745 - val_accuracy: 0.7037\n",
      "\n",
      "Epoch 00033: val_loss did not improve from 0.84431\n",
      "Epoch 34/100\n",
      "105/105 [==============================] - 0s 912us/step - loss: 0.4103 - accuracy: 0.9048 - val_loss: 0.8084 - val_accuracy: 0.6667\n",
      "\n",
      "Epoch 00034: val_loss improved from 0.84431 to 0.80837, saving model to Web_Model.h5\n",
      "Epoch 35/100\n",
      "105/105 [==============================] - 0s 1ms/step - loss: 0.2714 - accuracy: 0.9048 - val_loss: 0.9115 - val_accuracy: 0.6296\n",
      "\n",
      "Epoch 00035: val_loss did not improve from 0.80837\n",
      "Epoch 36/100\n",
      "105/105 [==============================] - 0s 1ms/step - loss: 0.3643 - accuracy: 0.9143 - val_loss: 0.7798 - val_accuracy: 0.6667\n",
      "\n",
      "Epoch 00036: val_loss improved from 0.80837 to 0.77981, saving model to Web_Model.h5\n",
      "Epoch 37/100\n",
      "105/105 [==============================] - 0s 960us/step - loss: 0.2077 - accuracy: 0.9714 - val_loss: 0.8928 - val_accuracy: 0.7037\n",
      "\n",
      "Epoch 00037: val_loss did not improve from 0.77981\n",
      "Epoch 38/100\n",
      "105/105 [==============================] - 0s 964us/step - loss: 0.2819 - accuracy: 0.9048 - val_loss: 0.8678 - val_accuracy: 0.7037\n",
      "\n",
      "Epoch 00038: val_loss did not improve from 0.77981\n",
      "Epoch 39/100\n"
     ]
    },
    {
     "name": "stdout",
     "output_type": "stream",
     "text": [
      "105/105 [==============================] - 0s 953us/step - loss: 0.2667 - accuracy: 0.9048 - val_loss: 0.9060 - val_accuracy: 0.6296\n",
      "\n",
      "Epoch 00039: val_loss did not improve from 0.77981\n",
      "Epoch 40/100\n",
      "105/105 [==============================] - 0s 889us/step - loss: 0.2644 - accuracy: 0.9143 - val_loss: 0.9630 - val_accuracy: 0.6667\n",
      "\n",
      "Epoch 00040: val_loss did not improve from 0.77981\n",
      "Epoch 41/100\n",
      "105/105 [==============================] - 0s 926us/step - loss: 0.2378 - accuracy: 0.9429 - val_loss: 1.0273 - val_accuracy: 0.6667\n",
      "\n",
      "Epoch 00041: val_loss did not improve from 0.77981\n",
      "Epoch 42/100\n",
      "105/105 [==============================] - 0s 932us/step - loss: 0.1573 - accuracy: 0.9619 - val_loss: 1.0206 - val_accuracy: 0.6667\n",
      "\n",
      "Epoch 00042: val_loss did not improve from 0.77981\n"
     ]
    }
   ],
   "source": [
    "earlystop = EarlyStopping(monitor=\"val_accuracy\", patience=10)\n",
    "checkpoint = ModelCheckpoint(\"Web_Model.h5\", monitor='val_loss', verbose=True, save_best_only=True)\n",
    "hist = model.fit(embedding_matrix_train, Y_train, epochs=100, batch_size=64, shuffle=True, validation_split=0.2, callbacks=[earlystop, checkpoint])"
   ]
  },
  {
   "cell_type": "code",
   "execution_count": 12,
   "metadata": {},
   "outputs": [],
   "source": [
    "# Loading The Best Model\n",
    "model.load_weights(\"Web_Model.h5\")"
   ]
  },
  {
   "cell_type": "code",
   "execution_count": 13,
   "metadata": {},
   "outputs": [
    {
     "name": "stdout",
     "output_type": "stream",
     "text": [
      "56/56 [==============================] - 0s 445us/step\n",
      "Testing Accuracy :  80.36 %\n"
     ]
    }
   ],
   "source": [
    "print(\"Testing Accuracy : \", round(100 * model.evaluate(embedding_matrix_test, Y_test)[1], 2), \"%\")"
   ]
  },
  {
   "cell_type": "code",
   "execution_count": 14,
   "metadata": {},
   "outputs": [],
   "source": [
    "with open(\"Web_Model.json\", \"w\") as file:\n",
    "    file.write(model.to_json())\n",
    "model.save_weights(\"Web_Model.h5\")"
   ]
  },
  {
   "cell_type": "markdown",
   "metadata": {},
   "source": [
    "### Code To Be Written In Django Application"
   ]
  },
  {
   "cell_type": "code",
   "execution_count": 15,
   "metadata": {},
   "outputs": [],
   "source": [
    "from keras.models import model_from_json"
   ]
  },
  {
   "cell_type": "code",
   "execution_count": 16,
   "metadata": {},
   "outputs": [],
   "source": [
    "with open(\"Web_Model.json\", \"r\") as file:\n",
    "    model = model_from_json(file.read())\n",
    "model.load_weights(\"Web_Model.h5\")"
   ]
  },
  {
   "cell_type": "code",
   "execution_count": 17,
   "metadata": {},
   "outputs": [
    {
     "name": "stdout",
     "output_type": "stream",
     "text": [
      "[4 3 2 0 2 2 3 2 4 2 1 2 0 3 1 3 3 2 3 2 3 0 4 3 3 3 2 0 1 2 0 1 3 2 0 2 2\n",
      " 4 4 2 1 0 0 1 2 0 3 2 3 3 3 0 3 2 2 3]\n"
     ]
    }
   ],
   "source": [
    "print(model.predict_classes(embedding_matrix_test))"
   ]
  }
 ],
 "metadata": {
  "kernelspec": {
   "display_name": "Python 3",
   "language": "python",
   "name": "python3"
  },
  "language_info": {
   "codemirror_mode": {
    "name": "ipython",
    "version": 3
   },
   "file_extension": ".py",
   "mimetype": "text/x-python",
   "name": "python",
   "nbconvert_exporter": "python",
   "pygments_lexer": "ipython3",
   "version": "3.7.7"
  }
 },
 "nbformat": 4,
 "nbformat_minor": 2
}
